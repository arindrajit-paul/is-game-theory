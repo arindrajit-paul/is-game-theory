{
 "cells": [
  {
   "cell_type": "markdown",
   "metadata": {},
   "source": [
    "# Cointoss Estimation using Classical Game Theory"
   ]
  },
  {
   "cell_type": "code",
   "execution_count": 1,
   "metadata": {},
   "outputs": [],
   "source": [
    "import numpy as np\n",
    "import pandas as pd\n",
    "import plotly.express as px"
   ]
  },
  {
   "cell_type": "code",
   "execution_count": 2,
   "metadata": {},
   "outputs": [],
   "source": [
    "# global variables\n",
    "PROB_HEAD = 0.63\n",
    "ROUNDS_PER_SIM = 1000\n",
    "NUM_SIMS = 20\n",
    "SEED = 42"
   ]
  },
  {
   "cell_type": "code",
   "execution_count": 3,
   "metadata": {},
   "outputs": [],
   "source": [
    "def payoff_function(guess: str, outcome: str) -> int:\n",
    "    if guess == \"H\" and outcome == \"H\":\n",
    "        return 2\n",
    "    elif guess == \"T\" and outcome == \"T\":\n",
    "        return 1\n",
    "    else:\n",
    "        return 0\n",
    "\n",
    "\n",
    "def simulate_game(\n",
    "    strategy_p1: callable,\n",
    "    strategy_p2: callable,\n",
    "    p_head: float,\n",
    "    rounds: int,\n",
    "    seed: int = None,\n",
    ") -> dict:\n",
    "\n",
    "    if seed is not None:\n",
    "        np.random.seed(seed)\n",
    "\n",
    "    # initialize record-keeping\n",
    "    guesses_p1 = []\n",
    "    guesses_p2 = []\n",
    "    payoffs_p1 = []\n",
    "    payoffs_p2 = []\n",
    "\n",
    "    # flip coin\n",
    "    for round_idx in range(rounds):\n",
    "        outcome = \"H\" if np.random.rand() < p_head else 0\n",
    "\n",
    "        # get each player's guess based on strategy\n",
    "        # players have access to each others guesses and payoffs\n",
    "        guess1 = strategy_p1(round_idx, guesses_p1, guesses_p2, payoffs_p1, payoffs_p2)\n",
    "        guess2 = strategy_p2(round_idx, guesses_p2, guesses_p1, payoffs_p2, payoffs_p1)\n",
    "\n",
    "        # compute individual payoffs\n",
    "        payoff1 = payoff_function(guess1, outcome)\n",
    "        payoff2 = payoff_function(guess2, outcome)\n",
    "\n",
    "        # update history\n",
    "        guesses_p1.append(guess1)\n",
    "        guesses_p2.append(guess2)\n",
    "        payoffs_p1.append(payoff1)\n",
    "        payoffs_p2.append(payoff2)\n",
    "\n",
    "    score_p1 = sum(payoffs_p1)\n",
    "    score_p2 = sum(payoffs_p2)\n",
    "\n",
    "    return {\n",
    "        \"guesses_p1\": guesses_p1,\n",
    "        \"guesses_p2\": guesses_p2,\n",
    "        \"payoffs_p1\": payoffs_p1,\n",
    "        \"payoffs_p2\": payoffs_p2,\n",
    "        \"final_scores\": (score_p1, score_p2),\n",
    "    }"
   ]
  },
  {
   "cell_type": "code",
   "execution_count": 4,
   "metadata": {},
   "outputs": [],
   "source": [
    "def strategy_always_heads(\n",
    "    round_idx, own_guesses, opp_guesses, own_payoffs, opp_payoffs\n",
    "):\n",
    "    return \"H\"\n",
    "\n",
    "\n",
    "def strategy_always_tails(\n",
    "    round_idx, own_guesses, opp_guesses, own_payoffs, opp_payoffs\n",
    "):\n",
    "    return \"T\"\n",
    "\n",
    "\n",
    "def strategy_random(round_idx, own_guesses, opp_guesses, own_payoffs, opp_payoffs):\n",
    "    return \"H\" if np.random.rand() < 0.5 else \"T\"\n",
    "\n",
    "\n",
    "def strategy_adaptive(round_idx, own_guesses, opp_guesses, own_payoffs, opp_payoffs):\n",
    "    \"\"\"\n",
    "    Example 'adaptive' strategy:\n",
    "      - If last round's payoff was 0, switch guess (from H->T or T->H).\n",
    "      - Otherwise, repeat the same guess as last round.\n",
    "      - If it's the first round (round_idx=0), guess 'H' by default.\n",
    "    \"\"\"\n",
    "    if round_idx == 0:\n",
    "        return \"H\"\n",
    "    else:\n",
    "        last_payoff = own_payoffs[-1]\n",
    "        last_guess = own_guesses[-1]\n",
    "        if last_payoff == 0:\n",
    "            # Switch guess\n",
    "            return \"H\" if last_guess == \"T\" else \"T\"\n",
    "        else:\n",
    "            # Keep the same guess\n",
    "            return last_guess\n",
    "\n",
    "\n",
    "def strategy_copy_opponent(\n",
    "    round_idx, own_guesses, opp_guesses, own_payoffs, opp_payoffs\n",
    "):\n",
    "    \"\"\"\n",
    "    Example 'copy-opponent' strategy:\n",
    "      - Always guess whatever the opponent guessed last round.\n",
    "      - First round defaults to 'H'.\n",
    "    \"\"\"\n",
    "    if round_idx == 0:\n",
    "        return \"H\"\n",
    "    else:\n",
    "        return opp_guesses[-1]"
   ]
  },
  {
   "cell_type": "code",
   "execution_count": 5,
   "metadata": {},
   "outputs": [
    {
     "name": "stdout",
     "output_type": "stream",
     "text": [
      "Final scores after 1000 rounds:\n",
      "Player 1 (always heads): 1292\n",
      "Player 2 (adaptive): 964\n",
      "\n",
      "Averaged over 20 simulations:\n",
      "Player 1 average score: 1271.9\n",
      "Player 2 average score: 926.2\n"
     ]
    }
   ],
   "source": [
    "if __name__ == \"__main__\":\n",
    "   # Always Heads vs. Adaptive\n",
    "\n",
    "    np.random.seed(42)  # For reproducibility\n",
    "\n",
    "    result = simulate_game(\n",
    "        strategy_p1=strategy_always_heads,\n",
    "        strategy_p2=strategy_adaptive,\n",
    "        p_head=PROB_HEAD,\n",
    "        rounds=ROUNDS_PER_SIM,\n",
    "        seed=SEED,\n",
    "    )\n",
    "\n",
    "    score_p1, score_p2 = result[\"final_scores\"]\n",
    "    print(\"Final scores after 1000 rounds:\")\n",
    "    print(\"Player 1 (always heads):\", score_p1)\n",
    "    print(\"Player 2 (adaptive):\", score_p2)\n",
    "    print()\n",
    "\n",
    "    # run multiple sims, store results, and compare averages\n",
    "    n_sims = NUM_SIMS\n",
    "    sum_scores_p1 = 0\n",
    "    sum_scores_p2 = 0\n",
    "    for s in range(n_sims):\n",
    "        res = simulate_game(\n",
    "            strategy_p1=strategy_always_heads,\n",
    "            strategy_p2=strategy_adaptive,\n",
    "            p_head=PROB_HEAD,\n",
    "            rounds=ROUNDS_PER_SIM,\n",
    "            seed=s,  # different seeds each time\n",
    "        )\n",
    "        sp1, sp2 = res[\"final_scores\"]\n",
    "        sum_scores_p1 += sp1\n",
    "        sum_scores_p2 += sp2\n",
    "\n",
    "    print(f\"Averaged over {n_sims} simulations:\")\n",
    "    print(\"Player 1 average score:\", sum_scores_p1 / n_sims)\n",
    "    print(\"Player 2 average score:\", sum_scores_p2 / n_sims)"
   ]
  },
  {
   "cell_type": "code",
   "execution_count": null,
   "metadata": {},
   "outputs": [],
   "source": [
    "def plot_cumulative_scores(payoffs_p1, payoffs_p2, strategy_1, strategy_2):\n",
    "    pay1 = np.array(payoffs_p1)\n",
    "    pay2 = np.array(payoffs_p2)\n",
    "\n",
    "    cum_scores_p1 = np.cumsum(pay1)\n",
    "    cum_scores_p2 = np.cumsum(pay2)\n",
    "\n",
    "    # Use f-strings to name the columns\n",
    "    col_p1 = f\"Player 1 {strategy_1}\"\n",
    "    col_p2 = f\"Player 2 {strategy_2}\"\n",
    "\n",
    "    df = pd.DataFrame(\n",
    "        {\n",
    "            \"Round\": np.arange(1, len(pay1) + 1),\n",
    "            col_p1: cum_scores_p1,\n",
    "            col_p2: cum_scores_p2,\n",
    "        }\n",
    "    )\n",
    "\n",
    "    fig = px.line(\n",
    "        df,\n",
    "        x=\"Round\",\n",
    "        y=[col_p1, col_p2],  # columns in the DataFrame\n",
    "        labels={\"value\": \"Cumulative Score\", \"variable\": \"Player\"},\n",
    "        title=f\"Cumulative Scores Over Rounds: {strategy_1} vs {strategy_2}\",\n",
    "    )\n",
    "\n",
    "    fig.show()"
   ]
  },
  {
   "cell_type": "code",
   "execution_count": 13,
   "metadata": {},
   "outputs": [
    {
     "data": {
      "application/vnd.plotly.v1+json": {
       "config": {
        "plotlyServerURL": "https://plot.ly"
       },
       "data": [
        {
         "hovertemplate": "Player=Player 1 Always Heads<br>Round=%{x}<br>Cumulative Score=%{y}<extra></extra>",
         "legendgroup": "Player 1 Always Heads",
         "line": {
          "color": "#636efa",
          "dash": "solid"
         },
         "marker": {
          "symbol": "circle"
         },
         "mode": "lines",
         "name": "Player 1 Always Heads",
         "showlegend": true,
         "type": "scattergl",
         "x": {
          "bdata": "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",
          "dtype": "i2"
         },
         "xaxis": "x",
         "y": {
          "bdata": "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",
          "dtype": "i2"
         },
         "yaxis": "y"
        },
        {
         "hovertemplate": "Player=Player 2 Adaptive<br>Round=%{x}<br>Cumulative Score=%{y}<extra></extra>",
         "legendgroup": "Player 2 Adaptive",
         "line": {
          "color": "#EF553B",
          "dash": "solid"
         },
         "marker": {
          "symbol": "circle"
         },
         "mode": "lines",
         "name": "Player 2 Adaptive",
         "showlegend": true,
         "type": "scattergl",
         "x": {
          "bdata": "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",
          "dtype": "i2"
         },
         "xaxis": "x",
         "y": {
          "bdata": "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",
          "dtype": "i2"
         },
         "yaxis": "y"
        }
       ],
       "layout": {
        "legend": {
         "title": {
          "text": "Player"
         },
         "tracegroupgap": 0
        },
        "template": {
         "data": {
          "bar": [
           {
            "error_x": {
             "color": "#2a3f5f"
            },
            "error_y": {
             "color": "#2a3f5f"
            },
            "marker": {
             "line": {
              "color": "#E5ECF6",
              "width": 0.5
             },
             "pattern": {
              "fillmode": "overlay",
              "size": 10,
              "solidity": 0.2
             }
            },
            "type": "bar"
           }
          ],
          "barpolar": [
           {
            "marker": {
             "line": {
              "color": "#E5ECF6",
              "width": 0.5
             },
             "pattern": {
              "fillmode": "overlay",
              "size": 10,
              "solidity": 0.2
             }
            },
            "type": "barpolar"
           }
          ],
          "carpet": [
           {
            "aaxis": {
             "endlinecolor": "#2a3f5f",
             "gridcolor": "white",
             "linecolor": "white",
             "minorgridcolor": "white",
             "startlinecolor": "#2a3f5f"
            },
            "baxis": {
             "endlinecolor": "#2a3f5f",
             "gridcolor": "white",
             "linecolor": "white",
             "minorgridcolor": "white",
             "startlinecolor": "#2a3f5f"
            },
            "type": "carpet"
           }
          ],
          "choropleth": [
           {
            "colorbar": {
             "outlinewidth": 0,
             "ticks": ""
            },
            "type": "choropleth"
           }
          ],
          "contour": [
           {
            "colorbar": {
             "outlinewidth": 0,
             "ticks": ""
            },
            "colorscale": [
             [
              0,
              "#0d0887"
             ],
             [
              0.1111111111111111,
              "#46039f"
             ],
             [
              0.2222222222222222,
              "#7201a8"
             ],
             [
              0.3333333333333333,
              "#9c179e"
             ],
             [
              0.4444444444444444,
              "#bd3786"
             ],
             [
              0.5555555555555556,
              "#d8576b"
             ],
             [
              0.6666666666666666,
              "#ed7953"
             ],
             [
              0.7777777777777778,
              "#fb9f3a"
             ],
             [
              0.8888888888888888,
              "#fdca26"
             ],
             [
              1,
              "#f0f921"
             ]
            ],
            "type": "contour"
           }
          ],
          "contourcarpet": [
           {
            "colorbar": {
             "outlinewidth": 0,
             "ticks": ""
            },
            "type": "contourcarpet"
           }
          ],
          "heatmap": [
           {
            "colorbar": {
             "outlinewidth": 0,
             "ticks": ""
            },
            "colorscale": [
             [
              0,
              "#0d0887"
             ],
             [
              0.1111111111111111,
              "#46039f"
             ],
             [
              0.2222222222222222,
              "#7201a8"
             ],
             [
              0.3333333333333333,
              "#9c179e"
             ],
             [
              0.4444444444444444,
              "#bd3786"
             ],
             [
              0.5555555555555556,
              "#d8576b"
             ],
             [
              0.6666666666666666,
              "#ed7953"
             ],
             [
              0.7777777777777778,
              "#fb9f3a"
             ],
             [
              0.8888888888888888,
              "#fdca26"
             ],
             [
              1,
              "#f0f921"
             ]
            ],
            "type": "heatmap"
           }
          ],
          "histogram": [
           {
            "marker": {
             "pattern": {
              "fillmode": "overlay",
              "size": 10,
              "solidity": 0.2
             }
            },
            "type": "histogram"
           }
          ],
          "histogram2d": [
           {
            "colorbar": {
             "outlinewidth": 0,
             "ticks": ""
            },
            "colorscale": [
             [
              0,
              "#0d0887"
             ],
             [
              0.1111111111111111,
              "#46039f"
             ],
             [
              0.2222222222222222,
              "#7201a8"
             ],
             [
              0.3333333333333333,
              "#9c179e"
             ],
             [
              0.4444444444444444,
              "#bd3786"
             ],
             [
              0.5555555555555556,
              "#d8576b"
             ],
             [
              0.6666666666666666,
              "#ed7953"
             ],
             [
              0.7777777777777778,
              "#fb9f3a"
             ],
             [
              0.8888888888888888,
              "#fdca26"
             ],
             [
              1,
              "#f0f921"
             ]
            ],
            "type": "histogram2d"
           }
          ],
          "histogram2dcontour": [
           {
            "colorbar": {
             "outlinewidth": 0,
             "ticks": ""
            },
            "colorscale": [
             [
              0,
              "#0d0887"
             ],
             [
              0.1111111111111111,
              "#46039f"
             ],
             [
              0.2222222222222222,
              "#7201a8"
             ],
             [
              0.3333333333333333,
              "#9c179e"
             ],
             [
              0.4444444444444444,
              "#bd3786"
             ],
             [
              0.5555555555555556,
              "#d8576b"
             ],
             [
              0.6666666666666666,
              "#ed7953"
             ],
             [
              0.7777777777777778,
              "#fb9f3a"
             ],
             [
              0.8888888888888888,
              "#fdca26"
             ],
             [
              1,
              "#f0f921"
             ]
            ],
            "type": "histogram2dcontour"
           }
          ],
          "mesh3d": [
           {
            "colorbar": {
             "outlinewidth": 0,
             "ticks": ""
            },
            "type": "mesh3d"
           }
          ],
          "parcoords": [
           {
            "line": {
             "colorbar": {
              "outlinewidth": 0,
              "ticks": ""
             }
            },
            "type": "parcoords"
           }
          ],
          "pie": [
           {
            "automargin": true,
            "type": "pie"
           }
          ],
          "scatter": [
           {
            "fillpattern": {
             "fillmode": "overlay",
             "size": 10,
             "solidity": 0.2
            },
            "type": "scatter"
           }
          ],
          "scatter3d": [
           {
            "line": {
             "colorbar": {
              "outlinewidth": 0,
              "ticks": ""
             }
            },
            "marker": {
             "colorbar": {
              "outlinewidth": 0,
              "ticks": ""
             }
            },
            "type": "scatter3d"
           }
          ],
          "scattercarpet": [
           {
            "marker": {
             "colorbar": {
              "outlinewidth": 0,
              "ticks": ""
             }
            },
            "type": "scattercarpet"
           }
          ],
          "scattergeo": [
           {
            "marker": {
             "colorbar": {
              "outlinewidth": 0,
              "ticks": ""
             }
            },
            "type": "scattergeo"
           }
          ],
          "scattergl": [
           {
            "marker": {
             "colorbar": {
              "outlinewidth": 0,
              "ticks": ""
             }
            },
            "type": "scattergl"
           }
          ],
          "scattermap": [
           {
            "marker": {
             "colorbar": {
              "outlinewidth": 0,
              "ticks": ""
             }
            },
            "type": "scattermap"
           }
          ],
          "scattermapbox": [
           {
            "marker": {
             "colorbar": {
              "outlinewidth": 0,
              "ticks": ""
             }
            },
            "type": "scattermapbox"
           }
          ],
          "scatterpolar": [
           {
            "marker": {
             "colorbar": {
              "outlinewidth": 0,
              "ticks": ""
             }
            },
            "type": "scatterpolar"
           }
          ],
          "scatterpolargl": [
           {
            "marker": {
             "colorbar": {
              "outlinewidth": 0,
              "ticks": ""
             }
            },
            "type": "scatterpolargl"
           }
          ],
          "scatterternary": [
           {
            "marker": {
             "colorbar": {
              "outlinewidth": 0,
              "ticks": ""
             }
            },
            "type": "scatterternary"
           }
          ],
          "surface": [
           {
            "colorbar": {
             "outlinewidth": 0,
             "ticks": ""
            },
            "colorscale": [
             [
              0,
              "#0d0887"
             ],
             [
              0.1111111111111111,
              "#46039f"
             ],
             [
              0.2222222222222222,
              "#7201a8"
             ],
             [
              0.3333333333333333,
              "#9c179e"
             ],
             [
              0.4444444444444444,
              "#bd3786"
             ],
             [
              0.5555555555555556,
              "#d8576b"
             ],
             [
              0.6666666666666666,
              "#ed7953"
             ],
             [
              0.7777777777777778,
              "#fb9f3a"
             ],
             [
              0.8888888888888888,
              "#fdca26"
             ],
             [
              1,
              "#f0f921"
             ]
            ],
            "type": "surface"
           }
          ],
          "table": [
           {
            "cells": {
             "fill": {
              "color": "#EBF0F8"
             },
             "line": {
              "color": "white"
             }
            },
            "header": {
             "fill": {
              "color": "#C8D4E3"
             },
             "line": {
              "color": "white"
             }
            },
            "type": "table"
           }
          ]
         },
         "layout": {
          "annotationdefaults": {
           "arrowcolor": "#2a3f5f",
           "arrowhead": 0,
           "arrowwidth": 1
          },
          "autotypenumbers": "strict",
          "coloraxis": {
           "colorbar": {
            "outlinewidth": 0,
            "ticks": ""
           }
          },
          "colorscale": {
           "diverging": [
            [
             0,
             "#8e0152"
            ],
            [
             0.1,
             "#c51b7d"
            ],
            [
             0.2,
             "#de77ae"
            ],
            [
             0.3,
             "#f1b6da"
            ],
            [
             0.4,
             "#fde0ef"
            ],
            [
             0.5,
             "#f7f7f7"
            ],
            [
             0.6,
             "#e6f5d0"
            ],
            [
             0.7,
             "#b8e186"
            ],
            [
             0.8,
             "#7fbc41"
            ],
            [
             0.9,
             "#4d9221"
            ],
            [
             1,
             "#276419"
            ]
           ],
           "sequential": [
            [
             0,
             "#0d0887"
            ],
            [
             0.1111111111111111,
             "#46039f"
            ],
            [
             0.2222222222222222,
             "#7201a8"
            ],
            [
             0.3333333333333333,
             "#9c179e"
            ],
            [
             0.4444444444444444,
             "#bd3786"
            ],
            [
             0.5555555555555556,
             "#d8576b"
            ],
            [
             0.6666666666666666,
             "#ed7953"
            ],
            [
             0.7777777777777778,
             "#fb9f3a"
            ],
            [
             0.8888888888888888,
             "#fdca26"
            ],
            [
             1,
             "#f0f921"
            ]
           ],
           "sequentialminus": [
            [
             0,
             "#0d0887"
            ],
            [
             0.1111111111111111,
             "#46039f"
            ],
            [
             0.2222222222222222,
             "#7201a8"
            ],
            [
             0.3333333333333333,
             "#9c179e"
            ],
            [
             0.4444444444444444,
             "#bd3786"
            ],
            [
             0.5555555555555556,
             "#d8576b"
            ],
            [
             0.6666666666666666,
             "#ed7953"
            ],
            [
             0.7777777777777778,
             "#fb9f3a"
            ],
            [
             0.8888888888888888,
             "#fdca26"
            ],
            [
             1,
             "#f0f921"
            ]
           ]
          },
          "colorway": [
           "#636efa",
           "#EF553B",
           "#00cc96",
           "#ab63fa",
           "#FFA15A",
           "#19d3f3",
           "#FF6692",
           "#B6E880",
           "#FF97FF",
           "#FECB52"
          ],
          "font": {
           "color": "#2a3f5f"
          },
          "geo": {
           "bgcolor": "white",
           "lakecolor": "white",
           "landcolor": "#E5ECF6",
           "showlakes": true,
           "showland": true,
           "subunitcolor": "white"
          },
          "hoverlabel": {
           "align": "left"
          },
          "hovermode": "closest",
          "mapbox": {
           "style": "light"
          },
          "paper_bgcolor": "white",
          "plot_bgcolor": "#E5ECF6",
          "polar": {
           "angularaxis": {
            "gridcolor": "white",
            "linecolor": "white",
            "ticks": ""
           },
           "bgcolor": "#E5ECF6",
           "radialaxis": {
            "gridcolor": "white",
            "linecolor": "white",
            "ticks": ""
           }
          },
          "scene": {
           "xaxis": {
            "backgroundcolor": "#E5ECF6",
            "gridcolor": "white",
            "gridwidth": 2,
            "linecolor": "white",
            "showbackground": true,
            "ticks": "",
            "zerolinecolor": "white"
           },
           "yaxis": {
            "backgroundcolor": "#E5ECF6",
            "gridcolor": "white",
            "gridwidth": 2,
            "linecolor": "white",
            "showbackground": true,
            "ticks": "",
            "zerolinecolor": "white"
           },
           "zaxis": {
            "backgroundcolor": "#E5ECF6",
            "gridcolor": "white",
            "gridwidth": 2,
            "linecolor": "white",
            "showbackground": true,
            "ticks": "",
            "zerolinecolor": "white"
           }
          },
          "shapedefaults": {
           "line": {
            "color": "#2a3f5f"
           }
          },
          "ternary": {
           "aaxis": {
            "gridcolor": "white",
            "linecolor": "white",
            "ticks": ""
           },
           "baxis": {
            "gridcolor": "white",
            "linecolor": "white",
            "ticks": ""
           },
           "bgcolor": "#E5ECF6",
           "caxis": {
            "gridcolor": "white",
            "linecolor": "white",
            "ticks": ""
           }
          },
          "title": {
           "x": 0.05
          },
          "xaxis": {
           "automargin": true,
           "gridcolor": "white",
           "linecolor": "white",
           "ticks": "",
           "title": {
            "standoff": 15
           },
           "zerolinecolor": "white",
           "zerolinewidth": 2
          },
          "yaxis": {
           "automargin": true,
           "gridcolor": "white",
           "linecolor": "white",
           "ticks": "",
           "title": {
            "standoff": 15
           },
           "zerolinecolor": "white",
           "zerolinewidth": 2
          }
         }
        },
        "title": {
         "text": "Cumulative Scores Over Rounds: Always Heads vs Adaptive"
        },
        "xaxis": {
         "anchor": "y",
         "domain": [
          0,
          1
         ],
         "title": {
          "text": "Round"
         }
        },
        "yaxis": {
         "anchor": "x",
         "domain": [
          0,
          1
         ],
         "title": {
          "text": "Cumulative Score"
         }
        }
       }
      }
     },
     "metadata": {},
     "output_type": "display_data"
    }
   ],
   "source": [
    "plot_cumulative_scores(\n",
    "    payoffs_p1=result[\"payoffs_p1\"],\n",
    "    payoffs_p2=result[\"payoffs_p2\"],\n",
    "    strategy_1=\"Always Heads\",\n",
    "    strategy_2=\"Adaptive\",\n",
    ")"
   ]
  },
  {
   "cell_type": "code",
   "execution_count": null,
   "metadata": {},
   "outputs": [],
   "source": []
  }
 ],
 "metadata": {
  "kernelspec": {
   "display_name": "kl_is",
   "language": "python",
   "name": "python3"
  },
  "language_info": {
   "codemirror_mode": {
    "name": "ipython",
    "version": 3
   },
   "file_extension": ".py",
   "mimetype": "text/x-python",
   "name": "python",
   "nbconvert_exporter": "python",
   "pygments_lexer": "ipython3",
   "version": "3.12.6"
  }
 },
 "nbformat": 4,
 "nbformat_minor": 2
}
